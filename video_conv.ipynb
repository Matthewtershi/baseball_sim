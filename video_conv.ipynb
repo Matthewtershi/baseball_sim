{
 "cells": [
  {
   "cell_type": "code",
   "execution_count": 12,
   "metadata": {},
   "outputs": [],
   "source": [
    "import os\n",
    "import numpy as np\n",
    "import pandas as pd\n",
    "import cv2\n",
    "import time\n",
    "\n",
    "from pose_module import poseDetector\n",
    "\n",
    "if not os.path.exists(\"data\"):\n",
    "    os.makedirs(\"data\")"
   ]
  },
  {
   "cell_type": "code",
   "execution_count": 15,
   "metadata": {},
   "outputs": [],
   "source": [
    "data_directory = 'pose_videos/'\n",
    "output_directory = 'data/'\n",
    "\n",
    "video_files = [f for f in os.listdir(data_directory) if f.endswith('.mp4')]\n",
    "\n",
    "detector = poseDetector()\n"
   ]
  },
  {
   "cell_type": "markdown",
   "metadata": {},
   "source": [
    "## Body Parts"
   ]
  },
  {
   "cell_type": "code",
   "execution_count": 16,
   "metadata": {},
   "outputs": [],
   "source": [
    "body_parts = {\n",
    "    0: \"NOSE\",\n",
    "    11: \"LEFT_SHOULDER\",\n",
    "    12: \"RIGHT_SHOULDER\",\n",
    "    13: \"LEFT_ELBOW\",\n",
    "    14: \"RIGHT_ELBOW\",\n",
    "    15: \"LEFT_WRIST\",\n",
    "    16: \"RIGHT_WRIST\",\n",
    "    23: \"LEFT_HIP\",\n",
    "    24: \"RIGHT_HIP\",\n",
    "    25: \"LEFT_KNEE\",\n",
    "    26: \"RIGHT_KNEE\",\n",
    "    27: \"LEFT_ANKLE\",\n",
    "    28: \"RIGHT_ANKLE\",\n",
    "    31: \"LEFT_FOOT_INDEX\",\n",
    "    32: \"RIGHT_FOOT_INDEX\"\n",
    "}\n"
   ]
  },
  {
   "cell_type": "code",
   "execution_count": 19,
   "metadata": {},
   "outputs": [
    {
     "name": "stdout",
     "output_type": "stream",
     "text": [
      "1022.mp4\n"
     ]
    },
    {
     "name": "stderr",
     "output_type": "stream",
     "text": [
      "c:\\Users\\matth\\VSC\\Projects\\baseball_sim\\.venv\\Lib\\site-packages\\google\\protobuf\\symbol_database.py:55: UserWarning: SymbolDatabase.GetPrototype() is deprecated. Please use message_factory.GetMessageClass() instead. SymbolDatabase.GetPrototype() will be removed soon.\n",
      "  warnings.warn('SymbolDatabase.GetPrototype() is deprecated. Please '\n"
     ]
    },
    {
     "name": "stdout",
     "output_type": "stream",
     "text": [
      "Processed 1022.mp4 and saved to data/1022.csv.\n",
      "1102.mp4\n",
      "Processed 1102.mp4 and saved to data/1102.csv.\n",
      "1103.mp4\n",
      "Processed 1103.mp4 and saved to data/1103.csv.\n"
     ]
    }
   ],
   "source": [
    "for video_file in video_files:\n",
    "    video_id = os.path.splitext(video_file)[0]  # Extract video ID without extension\n",
    "    csv_file_path = os.path.join(output_directory, f'{video_id}.csv')\n",
    "\n",
    "    if os.path.exists(csv_file_path):\n",
    "        print(f'{video_file}: CSV already exists.')\n",
    "        continue\n",
    "\n",
    "    cap = cv2.VideoCapture(os.path.join(data_directory, video_file))\n",
    "    # cap = cv2.VideoCapture(\"pose_videos/1022.mp4\")\n",
    "    frame_number = 0\n",
    "    data = []\n",
    "    # print(video_file)\n",
    "\n",
    "    while True:\n",
    "        success, img = cap.read()\n",
    "        if not success:\n",
    "            break\n",
    "\n",
    "        img = detector.findPose(img)\n",
    "        lmList = detector.findPosition(img) \n",
    "        if lmList and frame_number % 10 == 0: \n",
    "            positions_array = np.array(lmList)\n",
    "            selected_positions = positions_array[[0, 11, 12, 13, 14, 15, 16, 23, 24, 25, 26, 27, 28, 31, 32]]\n",
    "            # data.append([video_id, frame_number, selected_positions.flatten().tolist()])\n",
    "            flattened_positions = selected_positions.flatten()\n",
    "\n",
    "            data.append([video_id, frame_number] + flattened_positions.tolist()) \n",
    "\n",
    "        frame_number += 1\n",
    "\n",
    "    cap.release()\n",
    "\n",
    "    df = pd.DataFrame(data, columns=['video_id', 'frame_number', \n",
    "                                     'nose','nosex', 'nosey',\n",
    "                                     'left_shoulder','left_shoulderx', 'left_shouldery',\n",
    "                                     'right_shoulder','right_shoulderx', 'right_shouldery',\n",
    "                                     'left_elbow','left_elbowx', 'left_elbowy',\n",
    "                                     'right_elbow','right_elbowx', 'rightelbowy',\n",
    "                                     'left_wrist','left_wristx', 'left_wristy',\n",
    "                                     'right_wrist','right_wristx', 'right_wristy',\n",
    "                                     'left_hip','left_hipx', 'left_hipy',\n",
    "                                     'right_hip','right_hipx','right_hipy',\n",
    "                                     'left_knee','left_kneex', 'left_kneey',\n",
    "                                     'right_knee','right_kneex', 'rightkneey',\n",
    "                                     'left_ankle','left_anklex', 'left_ankley',\n",
    "                                     'right_ankle','right_anklex', 'right_ankley',\n",
    "                                     'left_foot','left_footx', 'left_footy',\n",
    "                                     'right_foot','right_footx', 'right_footy'])\n",
    "    df.to_csv(csv_file_path, index=False)\n",
    "    print(f'Processed {video_file} and saved to {csv_file_path}.')\n"
   ]
  }
 ],
 "metadata": {
  "kernelspec": {
   "display_name": ".venv",
   "language": "python",
   "name": "python3"
  },
  "language_info": {
   "codemirror_mode": {
    "name": "ipython",
    "version": 3
   },
   "file_extension": ".py",
   "mimetype": "text/x-python",
   "name": "python",
   "nbconvert_exporter": "python",
   "pygments_lexer": "ipython3",
   "version": "3.11.4"
  }
 },
 "nbformat": 4,
 "nbformat_minor": 2
}
