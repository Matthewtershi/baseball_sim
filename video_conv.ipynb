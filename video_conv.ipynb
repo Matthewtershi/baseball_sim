{
 "cells": [
  {
   "cell_type": "code",
   "execution_count": 4,
   "metadata": {},
   "outputs": [],
   "source": [
    "import os\n",
    "import numpy as np\n",
    "import pandas as pd\n",
    "import cv2\n",
    "import time\n",
    "\n",
    "from pose_module import poseDetector\n",
    "\n",
    "if not os.path.exists(\"data\"):\n",
    "    os.makedirs(\"data\")"
   ]
  },
  {
   "cell_type": "code",
   "execution_count": 10,
   "metadata": {},
   "outputs": [],
   "source": [
    "cap = cv2.VideoCapture(\"pose_videos/1022.mp4\") # pose_videos should be your normalized videos\n",
    "previousTime = 0\n",
    "detector = poseDetector()\n",
    "frame_number = 0\n",
    "frame_data = []\n",
    "video_id = 1022\n",
    "\n",
    "while True:\n",
    "    success, img = cap.read()\n",
    "    if not success:\n",
    "        break\n",
    "    \n",
    "    img = detector.findPose(img)\n",
    "    lmList = detector.findPosition(img)\n",
    "\n",
    "    frame_number += 1\n",
    "    positions_array = np.array(lmList)\n",
    "\n",
    "    indices_to_extract = [0, 11, 12, 13, 14, 15, 16, 23, 24, 25, 26, 27, 28, 31, 32] # filtering for significant parts\n",
    "\n",
    "    positions_array = [lmList[i] for i in indices_to_extract if i < len(lmList)]\n",
    "\n",
    "    if (frame_number % 10 == 0):\n",
    "        frame_data.append([video_id, frame_number, positions_array])  # Store as a list\n",
    "\n",
    "    currTime = time.time()\n",
    "    fps = 1/(currTime - previousTime)\n",
    "    previousTime = currTime\n",
    "\n",
    "df = pd.DataFrame(frame_data, columns=['video_id', 'frame', 'positions'])\n",
    "\n",
    "df.to_csv(f'data/{video_id}.csv', index=False)"
   ]
  },
  {
   "cell_type": "markdown",
   "metadata": {},
   "source": [
    "## Body Tags"
   ]
  },
  {
   "cell_type": "code",
   "execution_count": null,
   "metadata": {},
   "outputs": [],
   "source": [
    "# NOSE = 0\n",
    "# LEFT_EYE_INNER = 1\n",
    "# LEFT_EYE = 2\n",
    "# LEFT_EYE_OUTER = 3\n",
    "# RIGHT_EYE_INNER = 4\n",
    "# RIGHT_EYE = 5\n",
    "# RIGHT_EYE_OUTER = 6\n",
    "# LEFT_EAR = 7\n",
    "# RIGHT_EAR = 8\n",
    "# MOUTH_LEFT = 9\n",
    "# MOUTH_RIGHT = 10\n",
    "# LEFT_SHOULDER = 11\n",
    "# RIGHT_SHOULDER = 12\n",
    "# LEFT_ELBOW = 13\n",
    "# RIGHT_ELBOW = 14\n",
    "# LEFT_WRIST = 15\n",
    "# RIGHT_WRIST = 16\n",
    "# LEFT_PINKY = 17\n",
    "# RIGHT_PINKY = 18\n",
    "# LEFT_INDEX = 19\n",
    "# RIGHT_INDEX = 20\n",
    "# LEFT_THUMB = 21\n",
    "# RIGHT_THUMB = 22\n",
    "# LEFT_HIP = 23\n",
    "# RIGHT_HIP = 24\n",
    "# LEFT_KNEE = 25\n",
    "# RIGHT_KNEE = 26\n",
    "# LEFT_ANKLE = 27\n",
    "# RIGHT_ANKLE = 28\n",
    "# LEFT_HEEL = 29\n",
    "# RIGHT_HEEL = 30\n",
    "# LEFT_FOOT_INDEX = 31\n",
    "# RIGHT_FOOT_INDEX = 32"
   ]
  }
 ],
 "metadata": {
  "kernelspec": {
   "display_name": ".venv",
   "language": "python",
   "name": "python3"
  },
  "language_info": {
   "codemirror_mode": {
    "name": "ipython",
    "version": 3
   },
   "file_extension": ".py",
   "mimetype": "text/x-python",
   "name": "python",
   "nbconvert_exporter": "python",
   "pygments_lexer": "ipython3",
   "version": "3.11.4"
  }
 },
 "nbformat": 4,
 "nbformat_minor": 2
}
