{
 "cells": [
  {
   "cell_type": "markdown",
   "metadata": {},
   "source": [
    "SVM, Clustering, DBSCAN, CLUSTERING \n",
    "clustering makes the most sense since swings will have variation but that doesnt neccessaryily make them good or bad, as long as the clusters as similar, that is what will define a good swing"
   ]
  },
  {
   "cell_type": "code",
   "execution_count": 4,
   "metadata": {},
   "outputs": [],
   "source": [
    "import numpy as np\n",
    "import pandas as pd\n",
    "import cv2\n",
    "import mediapipe as mp\n",
    "import os\n",
    "import tensorflow as tf\n",
    "import sklearn as sk\n",
    "from sklearn.cluster import DBSCAN\n",
    "from sklearn.preprocessing import StandardScaler\n",
    "from datetime import datetime"
   ]
  },
  {
   "cell_type": "code",
   "execution_count": 5,
   "metadata": {},
   "outputs": [],
   "source": [
    "df1 = pd.read_csv(\"data/1022.csv\")\n",
    "df2 = pd.read_csv(\"data/1102.csv\")\n",
    "df3 = pd.read_csv(\"data/1103.csv\")\n",
    "combined_df = pd.concat([df1, df2, df3], ignore_index = True)"
   ]
  },
  {
   "cell_type": "code",
   "execution_count": 6,
   "metadata": {},
   "outputs": [
    {
     "data": {
      "text/html": [
       "<div>\n",
       "<style scoped>\n",
       "    .dataframe tbody tr th:only-of-type {\n",
       "        vertical-align: middle;\n",
       "    }\n",
       "\n",
       "    .dataframe tbody tr th {\n",
       "        vertical-align: top;\n",
       "    }\n",
       "\n",
       "    .dataframe thead th {\n",
       "        text-align: right;\n",
       "    }\n",
       "</style>\n",
       "<table border=\"1\" class=\"dataframe\">\n",
       "  <thead>\n",
       "    <tr style=\"text-align: right;\">\n",
       "      <th></th>\n",
       "      <th>video_id</th>\n",
       "      <th>frame</th>\n",
       "      <th>positions</th>\n",
       "    </tr>\n",
       "  </thead>\n",
       "  <tbody>\n",
       "    <tr>\n",
       "      <th>0</th>\n",
       "      <td>1022</td>\n",
       "      <td>10</td>\n",
       "      <td>[[0, 1786.7490005493164, 450.74140548706055], ...</td>\n",
       "    </tr>\n",
       "    <tr>\n",
       "      <th>1</th>\n",
       "      <td>1022</td>\n",
       "      <td>20</td>\n",
       "      <td>[[0, 1784.5487594604492, 465.05802869796753], ...</td>\n",
       "    </tr>\n",
       "    <tr>\n",
       "      <th>2</th>\n",
       "      <td>1022</td>\n",
       "      <td>30</td>\n",
       "      <td>[[0, 1814.52392578125, 460.98089933395386], [1...</td>\n",
       "    </tr>\n",
       "    <tr>\n",
       "      <th>3</th>\n",
       "      <td>1022</td>\n",
       "      <td>40</td>\n",
       "      <td>[[0, 1816.5296173095703, 493.357275724411], [1...</td>\n",
       "    </tr>\n",
       "    <tr>\n",
       "      <th>4</th>\n",
       "      <td>1022</td>\n",
       "      <td>50</td>\n",
       "      <td>[[0, 1823.034782409668, 494.5079433917999], [1...</td>\n",
       "    </tr>\n",
       "    <tr>\n",
       "      <th>5</th>\n",
       "      <td>1022</td>\n",
       "      <td>60</td>\n",
       "      <td>[[0, 1819.4028854370117, 497.6048970222473], [...</td>\n",
       "    </tr>\n",
       "    <tr>\n",
       "      <th>6</th>\n",
       "      <td>1022</td>\n",
       "      <td>70</td>\n",
       "      <td>[[0, 1856.6515731811523, 526.2437760829926], [...</td>\n",
       "    </tr>\n",
       "    <tr>\n",
       "      <th>7</th>\n",
       "      <td>1022</td>\n",
       "      <td>80</td>\n",
       "      <td>[[0, 1895.5863189697266, 531.4439570903778], [...</td>\n",
       "    </tr>\n",
       "    <tr>\n",
       "      <th>8</th>\n",
       "      <td>1022</td>\n",
       "      <td>90</td>\n",
       "      <td>[[0, 1854.8644638061523, 529.0909945964813], [...</td>\n",
       "    </tr>\n",
       "    <tr>\n",
       "      <th>9</th>\n",
       "      <td>1022</td>\n",
       "      <td>100</td>\n",
       "      <td>[[0, 1877.5825881958008, 494.93441462516785], ...</td>\n",
       "    </tr>\n",
       "  </tbody>\n",
       "</table>\n",
       "</div>"
      ],
      "text/plain": [
       "   video_id  frame                                          positions\n",
       "0      1022     10  [[0, 1786.7490005493164, 450.74140548706055], ...\n",
       "1      1022     20  [[0, 1784.5487594604492, 465.05802869796753], ...\n",
       "2      1022     30  [[0, 1814.52392578125, 460.98089933395386], [1...\n",
       "3      1022     40  [[0, 1816.5296173095703, 493.357275724411], [1...\n",
       "4      1022     50  [[0, 1823.034782409668, 494.5079433917999], [1...\n",
       "5      1022     60  [[0, 1819.4028854370117, 497.6048970222473], [...\n",
       "6      1022     70  [[0, 1856.6515731811523, 526.2437760829926], [...\n",
       "7      1022     80  [[0, 1895.5863189697266, 531.4439570903778], [...\n",
       "8      1022     90  [[0, 1854.8644638061523, 529.0909945964813], [...\n",
       "9      1022    100  [[0, 1877.5825881958008, 494.93441462516785], ..."
      ]
     },
     "execution_count": 6,
     "metadata": {},
     "output_type": "execute_result"
    }
   ],
   "source": [
    "combined_df.head(10)"
   ]
  }
 ],
 "metadata": {
  "kernelspec": {
   "display_name": ".venv",
   "language": "python",
   "name": "python3"
  },
  "language_info": {
   "codemirror_mode": {
    "name": "ipython",
    "version": 3
   },
   "file_extension": ".py",
   "mimetype": "text/x-python",
   "name": "python",
   "nbconvert_exporter": "python",
   "pygments_lexer": "ipython3",
   "version": "3.11.4"
  }
 },
 "nbformat": 4,
 "nbformat_minor": 2
}
