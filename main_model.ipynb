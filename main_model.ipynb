{
 "cells": [
  {
   "cell_type": "markdown",
   "metadata": {},
   "source": [
    "SVM, Clustering, DBSCAN, CLUSTERING \n",
    "clustering makes the most sense since swings will have variation but that doesnt neccessaryily make them good or bad, as long as the clusters as similar, that is what will define a good swing"
   ]
  }
 ],
 "metadata": {
  "language_info": {
   "name": "python"
  }
 },
 "nbformat": 4,
 "nbformat_minor": 2
}
